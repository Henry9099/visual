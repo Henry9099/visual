{
 "cells": [
  {
   "cell_type": "markdown",
   "metadata": {},
   "source": [
    "# Baseball Player Performance Visualisation"
   ]
  },
  {
   "cell_type": "markdown",
   "metadata": {},
   "source": [
    "## 1 - Summary"
   ]
  },
  {
   "cell_type": "markdown",
   "metadata": {},
   "source": [
    "I have created a data visualisation showing the performance of baseball players. The graph shows the relationship between Home Runs hit and average runs per game (avg). The data is further broken down into \"handedness\" and viewers can see data for all baseball players, left handers, right handers, or \"both\" (ambidextrous). The visualisation makes clear that a.) there is a positive correlation between average runs per game and home runs in career and b.) the surprising fact that right handers on average perform significantly worse than left or \"both\" handers."
   ]
  },
  {
   "cell_type": "markdown",
   "metadata": {},
   "source": [
    "## 2 - Design"
   ]
  },
  {
   "cell_type": "markdown",
   "metadata": {},
   "source": [
    "Despite most of the avg data being greater than 0.2 i kept my scales starting at 0 so as to make sure i didn't overstate the difference in performance. I also made good use of the empty space by putting the buttons and legend on the left side of the graph. <br>After recieving feedback on my graph, added an average performance of the group line. Depending on the viewer's choice, this shows the mean average number of runs of left handers, right handers, both handers or all the data. I also changed increased the size of the legend.\n"
   ]
  },
  {
   "cell_type": "markdown",
   "metadata": {},
   "source": [
    "## 3 - Feedback"
   ]
  },
  {
   "cell_type": "markdown",
   "metadata": {},
   "source": [
    "- insert a mean performance line for each handedness - with visibility depending on the view\n",
    "- increase the size of the legend\n",
    "- italisize the mean marker label\n",
    "- increase the opacity of the points"
   ]
  },
  {
   "cell_type": "markdown",
   "metadata": {},
   "source": [
    "## 4 - Resources"
   ]
  },
  {
   "cell_type": "markdown",
   "metadata": {},
   "source": [
    "- Stack Overflow\n",
    "- W3Schools (particularly useful for CSS help)"
   ]
  }
 ],
 "metadata": {
  "kernelspec": {
   "display_name": "Python 2",
   "language": "python",
   "name": "python2"
  },
  "language_info": {
   "codemirror_mode": {
    "name": "ipython",
    "version": 2
   },
   "file_extension": ".py",
   "mimetype": "text/x-python",
   "name": "python",
   "nbconvert_exporter": "python",
   "pygments_lexer": "ipython2",
   "version": "2.7.13"
  }
 },
 "nbformat": 4,
 "nbformat_minor": 2
}
